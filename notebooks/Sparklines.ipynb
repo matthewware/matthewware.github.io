{
 "cells": [
  {
   "cell_type": "markdown",
   "metadata": {},
   "source": [
    "# Spark lines"
   ]
  },
  {
   "cell_type": "code",
   "execution_count": 3,
   "metadata": {},
   "outputs": [],
   "source": [
    "import matplotlib\n",
    "matplotlib.use(\"Agg\")\n",
    "import matplotlib.pyplot as plt\n",
    "import base64\n",
    "\n",
    "from io import BytesIO\n",
    "\n",
    "def sparkline(data, figsize=(4, 0.25), **kwags):\n",
    "    \"\"\"\n",
    "    Returns a HTML image tag containing a base64 encoded sparkline style plot\n",
    "    \"\"\"\n",
    "    data = list(data)\n",
    "\n",
    "    fig, ax = plt.subplots(1, 1, figsize=figsize, **kwags)\n",
    "    ax.plot(data)\n",
    "    for k,v in ax.spines.items():\n",
    "        v.set_visible(False)\n",
    "    ax.set_xticks([])\n",
    "    ax.set_yticks([])\n",
    "\n",
    "    plt.plot(len(data) - 1, data[len(data) - 1], 'r.')\n",
    "\n",
    "    ax.fill_between(range(len(data)), data, len(data)*[min(data)], alpha=0.1)\n",
    "\n",
    "    img = BytesIO()\n",
    "    plt.savefig(img, transparent=True, bbox_inches='tight')\n",
    "    img.seek(0)\n",
    "    plt.close()\n",
    "\n",
    "    return base64.b64encode(img.read()).decode(\"UTF-8\")"
   ]
  },
  {
   "cell_type": "code",
   "execution_count": 7,
   "metadata": {},
   "outputs": [],
   "source": [
    "values = [\n",
    "        [1,2,3,4,5,6,7,8,9,10],\n",
    "        [7,10,12,18,2,8,10,6,7,12],\n",
    "        [10,9,8,7,6,5,4,3,2,1]\n",
    "    ]\n",
    "\n",
    "with open(\"foo.html\", \"w\") as file:\n",
    "    for value in values:\n",
    "        file.write('<div><img src=\"data:image/png;base64,{}\"/></div>'.format(sparkline(value)))"
   ]
  },
  {
   "cell_type": "code",
   "execution_count": 8,
   "metadata": {},
   "outputs": [
    {
     "name": "stdout",
     "output_type": "stream",
     "text": [
      "Untitled.ipynb  foo.html\r\n"
     ]
    }
   ],
   "source": [
    "ls"
   ]
  },
  {
   "cell_type": "code",
   "execution_count": null,
   "metadata": {},
   "outputs": [],
   "source": []
  }
 ],
 "metadata": {
  "kernelspec": {
   "display_name": "Python 3",
   "language": "python",
   "name": "python3"
  },
  "language_info": {
   "codemirror_mode": {
    "name": "ipython",
    "version": 3
   },
   "file_extension": ".py",
   "mimetype": "text/x-python",
   "name": "python",
   "nbconvert_exporter": "python",
   "pygments_lexer": "ipython3",
   "version": "3.7.5"
  },
  "latex_envs": {
   "bibliofile": "biblio.bib",
   "cite_by": "apalike",
   "current_citInitial": 1,
   "eqLabelWithNumbers": true,
   "eqNumInitial": 0
  },
  "nav_menu": {},
  "toc": {
   "navigate_menu": true,
   "number_sections": true,
   "sideBar": true,
   "threshold": 6,
   "toc_cell": false,
   "toc_section_display": "block",
   "toc_window_display": false
  }
 },
 "nbformat": 4,
 "nbformat_minor": 2
}
